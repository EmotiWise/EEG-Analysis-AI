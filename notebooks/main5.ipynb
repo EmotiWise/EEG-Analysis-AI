{
 "cells": [
  {
   "cell_type": "markdown",
   "metadata": {},
   "source": [
    "# Ticket 5: Clasificación básica (modelo clásico)\n",
    "\n",
    "¿Podemos distinguir entre estados de alta vs baja atención a partir de EEG? En este notebook se segmenta la señal EEG, se extraen features simples (energía en bandas delta, theta, alpha y beta) y se simulan etiquetas para clasificar cada segmento. Se entrena un modelo de Regresión Logística y se evalúa su desempeño."
   ]
  },
  {
   "cell_type": "code",
   "execution_count": 1,
   "metadata": {},
   "outputs": [
    {
     "name": "stdout",
     "output_type": "stream",
     "text": [
      "Entorno configurado y librerías importadas correctamente.\n"
     ]
    }
   ],
   "source": [
    "# Importar las librerías necesarias\n",
    "import numpy as np\n",
    "import pandas as pd\n",
    "import matplotlib.pyplot as plt\n",
    "from scipy.io import loadmat\n",
    "from scipy.signal import welch\n",
    "from sklearn.model_selection import train_test_split\n",
    "from sklearn.linear_model import LogisticRegression\n",
    "from sklearn.metrics import accuracy_score, confusion_matrix, classification_report\n",
    "\n",
    "# Configurar Matplotlib para mostrar gráficos en línea (Jupyter/Colab)\n",
    "%matplotlib inline\n",
    "\n",
    "print('Entorno configurado y librerías importadas correctamente.')"
   ]
  },
  {
   "cell_type": "code",
   "execution_count": 2,
   "metadata": {},
   "outputs": [
    {
     "name": "stdout",
     "output_type": "stream",
     "text": [
      "Forma de la señal EEG: (12258, 19)\n"
     ]
    }
   ],
   "source": [
    "# Cargar el archivo v1p.mat y asignar nombres de canales\n",
    "mat_data = loadmat('v1p.mat', squeeze_me=True)\n",
    "data_array = mat_data['v1p']\n",
    "\n",
    "df = pd.DataFrame(data_array)\n",
    "\n",
    "channel_names = ['Fz', 'Cz', 'Pz', 'C3', 'T3', 'C4', 'T4', 'Fp1', 'Fp2', 'F3', 'F4', 'F7', 'F8', 'P3', 'P4', 'T5', 'T6', 'O1', 'O2']\n",
    "if df.shape[1] == len(channel_names):\n",
    "    df.columns = channel_names\n",
    "else:\n",
    "    print('Advertencia: El número de columnas en el dataset no coincide con el número de canales esperados.')\n",
    "\n",
    "print('Forma de la señal EEG:', df.shape)"
   ]
  },
  {
   "cell_type": "markdown",
   "metadata": {},
   "source": [
    "### Función para calcular la potencia en una banda de frecuencia\n",
    "\n",
    "Utilizando la función `welch`, se estima la densidad espectral de potencia (PSD) y se integra el área bajo la curva en el rango de la banda de interés."
   ]
  },
  {
   "cell_type": "code",
   "execution_count": 3,
   "metadata": {},
   "outputs": [],
   "source": [
    "def bandpower(data, fs, band, nperseg=128):\n",
    "    \"\"\"Calcula la potencia de la señal en una banda de frecuencia específica.\n",
    "    \n",
    "    Parámetros:\n",
    "      data: Señal unidimensional (array).\n",
    "      fs: Frecuencia de muestreo en Hz.\n",
    "      band: Tupla (f_low, f_high) que define la banda.\n",
    "      nperseg: Número de muestras por segmento para welch.\n",
    "    \n",
    "    Retorna:\n",
    "      Potencia integrada en la banda (en µV² si la señal está en µV).\n",
    "    \"\"\"\n",
    "    f, Pxx = welch(data, fs=fs, nperseg=nperseg)\n",
    "    freq_idx = (f >= band[0]) & (f <= band[1])\n",
    "    return np.trapz(Pxx[freq_idx], f[freq_idx])\n",
    "\n",
    "# Ejemplo de uso (comentado):\n",
    "# power_theta = bandpower(df['Fz'].values, 128, (4, 8))\n",
    "# print('Potencia en banda theta:', power_theta, 'µV²')"
   ]
  },
  {
   "cell_type": "markdown",
   "metadata": {},
   "source": [
    "### Segmentación de la señal\n",
    "\n",
    "Se segmenta la señal del canal **Fz** en ventanas de 1 segundo (128 muestras). Cada segmento representará un ejemplo para el modelo de clasificación."
   ]
  },
  {
   "cell_type": "code",
   "execution_count": 4,
   "metadata": {},
   "outputs": [
    {
     "name": "stdout",
     "output_type": "stream",
     "text": [
      "Número de segmentos: 95\n",
      "Forma de la matriz de segmentos: (95, 128)\n"
     ]
    }
   ],
   "source": [
    "# Parámetros de segmentación\n",
    "fs = 128  # Frecuencia de muestreo\n",
    "segment_length = fs  # 1 segundo = 128 muestras\n",
    "num_samples = df.shape[0]\n",
    "num_segments = num_samples // segment_length\n",
    "print('Número de segmentos:', num_segments)\n",
    "\n",
    "# Extraer la señal del canal Fz\n",
    "signal = df['Fz'].values\n",
    "\n",
    "# Dividir la señal en segmentos\n",
    "segments = []\n",
    "for i in range(num_segments):\n",
    "    start = i * segment_length\n",
    "    end = start + segment_length\n",
    "    segments.append(signal[start:end])\n",
    "segments = np.array(segments)\n",
    "print('Forma de la matriz de segmentos:', segments.shape)"
   ]
  },
  {
   "cell_type": "markdown",
   "metadata": {},
   "source": [
    "### Extracción de Features para cada segmento\n",
    "\n",
    "Para cada segmento se calculará la potencia en las siguientes bandas de frecuencia:\n",
    "\n",
    "- **Delta:** 0.5 - 4 Hz\n",
    "- **Theta:** 4 - 8 Hz\n",
    "- **Alpha:** 8 - 13 Hz\n",
    "- **Beta:** 13 - 30 Hz"
   ]
  },
  {
   "cell_type": "code",
   "execution_count": 5,
   "metadata": {},
   "outputs": [
    {
     "name": "stderr",
     "output_type": "stream",
     "text": [
      "C:\\Users\\Luna\\AppData\\Local\\Temp\\ipykernel_5652\\2414210261.py:15: DeprecationWarning: `trapz` is deprecated. Use `trapezoid` instead, or one of the numerical integration functions in `scipy.integrate`.\n",
      "  return np.trapz(Pxx[freq_idx], f[freq_idx])\n"
     ]
    },
    {
     "name": "stdout",
     "output_type": "stream",
     "text": [
      "Primeros 5 registros de features extraídos:\n",
      "           delta         theta        alpha         beta\n",
      "0   32459.691406  16640.219482  4972.186279  6119.483767\n",
      "1  245707.286133   9474.197876  3153.559708  4741.840615\n",
      "2    7549.710449   3950.868713   908.005569  1339.171967\n",
      "3    2155.812531   3338.061127  2545.681030  1929.724113\n",
      "4   25218.478149  14299.832520  2690.533386  1543.227493\n"
     ]
    }
   ],
   "source": [
    "# Definir bandas de frecuencia\n",
    "bands = {\n",
    "    'delta': (0.5, 4),\n",
    "    'theta': (4, 8),\n",
    "    'alpha': (8, 13),\n",
    "    'beta': (13, 30)\n",
    "}\n",
    "\n",
    "# Extraer features para cada segmento\n",
    "features_list = []\n",
    "for seg in segments:\n",
    "    features = {}\n",
    "    for band_name, band_range in bands.items():\n",
    "        features[band_name] = bandpower(seg, fs, band_range, nperseg=segment_length)\n",
    "    features_list.append(features)\n",
    "\n",
    "features_df = pd.DataFrame(features_list)\n",
    "print('Primeros 5 registros de features extraídos:')\n",
    "print(features_df.head())"
   ]
  },
  {
   "cell_type": "markdown",
   "metadata": {},
   "source": [
    "### Asignación de etiquetas simuladas\n",
    "\n",
    "En este ejemplo se simulan etiquetas basadas en la potencia en la banda **alpha** del canal Fz. Se asume que los segmentos con una potencia en alpha superior a la mediana se corresponden con estados de **alta atención** (Control), mientras que aquellos por debajo se asocian con **baja atención** (TDAH)."
   ]
  },
  {
   "cell_type": "code",
   "execution_count": 6,
   "metadata": {},
   "outputs": [
    {
     "name": "stdout",
     "output_type": "stream",
     "text": [
      "Valor mediano de potencia en alpha: 2406.608139038086\n",
      "Tabla de features con etiquetas:\n",
      "           delta         theta        alpha         beta  Label Label_str\n",
      "0   32459.691406  16640.219482  4972.186279  6119.483767      1   Control\n",
      "1  245707.286133   9474.197876  3153.559708  4741.840615      1   Control\n",
      "2    7549.710449   3950.868713   908.005569  1339.171967      0      TDAH\n",
      "3    2155.812531   3338.061127  2545.681030  1929.724113      1   Control\n",
      "4   25218.478149  14299.832520  2690.533386  1543.227493      1   Control\n"
     ]
    }
   ],
   "source": [
    "median_alpha = features_df['alpha'].median()\n",
    "print('Valor mediano de potencia en alpha:', median_alpha)\n",
    "\n",
    "# Asignar etiquetas: 1 para alta atención (Control), 0 para baja atención (TDAH)\n",
    "features_df['Label'] = (features_df['alpha'] > median_alpha).astype(int)\n",
    "features_df['Label_str'] = features_df['Label'].map({1: 'Control', 0: 'TDAH'})\n",
    "\n",
    "print('Tabla de features con etiquetas:')\n",
    "print(features_df.head())"
   ]
  },
  {
   "cell_type": "markdown",
   "metadata": {},
   "source": [
    "### División de los datos y entrenamiento del modelo\n",
    "\n",
    "Se separan los datos en conjuntos de entrenamiento y prueba y se entrena un modelo de Regresión Logística para predecir la etiqueta a partir de las características extraídas."
   ]
  },
  {
   "cell_type": "code",
   "execution_count": 7,
   "metadata": {},
   "outputs": [
    {
     "name": "stdout",
     "output_type": "stream",
     "text": [
      "Tamaño entrenamiento: (66, 4) | Tamaño prueba: (29, 4)\n",
      "Precisión del modelo: 1.0\n",
      "Matriz de confusión:\n",
      "[[13  0]\n",
      " [ 0 16]]\n",
      "Reporte de clasificación:\n",
      "              precision    recall  f1-score   support\n",
      "\n",
      "           0       1.00      1.00      1.00        13\n",
      "           1       1.00      1.00      1.00        16\n",
      "\n",
      "    accuracy                           1.00        29\n",
      "   macro avg       1.00      1.00      1.00        29\n",
      "weighted avg       1.00      1.00      1.00        29\n",
      "\n"
     ]
    }
   ],
   "source": [
    "# Seleccionar las features y la variable objetivo\n",
    "X = features_df[['delta', 'theta', 'alpha', 'beta']]\n",
    "y = features_df['Label']\n",
    "\n",
    "# Dividir en conjunto de entrenamiento y prueba (70% entrenamiento, 30% prueba)\n",
    "X_train, X_test, y_train, y_test = train_test_split(X, y, test_size=0.3, random_state=42)\n",
    "print('Tamaño entrenamiento:', X_train.shape, '| Tamaño prueba:', X_test.shape)\n",
    "\n",
    "# Entrenar un modelo de Regresión Logística\n",
    "model = LogisticRegression()\n",
    "model.fit(X_train, y_train)\n",
    "\n",
    "# Realizar predicciones en el conjunto de prueba\n",
    "y_pred = model.predict(X_test)\n",
    "\n",
    "print('Precisión del modelo:', accuracy_score(y_test, y_pred))\n",
    "print('Matriz de confusión:')\n",
    "print(confusion_matrix(y_test, y_pred))\n",
    "print('Reporte de clasificación:')\n",
    "print(classification_report(y_test, y_pred))"
   ]
  },
  {
   "cell_type": "markdown",
   "metadata": {},
   "source": [
    "### Análisis de Coeficientes y Relevancia de Features\n",
    "\n",
    "Se inspeccionan los coeficientes del modelo de Regresión Logística para determinar qué características tienen mayor peso en la clasificación. Por ejemplo, si el modelo asigna un coeficiente negativo a la feature `alpha`, esto sugeriría que una menor potencia en la banda alpha se asocia con baja atención (TDAH)."
   ]
  },
  {
   "cell_type": "code",
   "execution_count": 8,
   "metadata": {},
   "outputs": [
    {
     "name": "stdout",
     "output_type": "stream",
     "text": [
      "Coeficientes del modelo:\n",
      "  Feature  Coefficient\n",
      "0   delta    -0.000227\n",
      "1   theta     0.000742\n",
      "2   alpha     0.082716\n",
      "3    beta     0.001281\n"
     ]
    }
   ],
   "source": [
    "# Crear una tabla con los coeficientes del modelo\n",
    "coef_df = pd.DataFrame({\n",
    "    'Feature': X.columns,\n",
    "    'Coefficient': model.coef_[0]\n",
    "})\n",
    "\n",
    "print('Coeficientes del modelo:')\n",
    "print(coef_df)"
   ]
  },
  {
   "cell_type": "markdown",
   "metadata": {},
   "source": [
    "## Conclusiones e Interpretación\n",
    "\n",
    "El modelo de Regresión Logística se entrenó y evaluó usando las características extraídas de segmentos de EEG (canal Fz). En este ejemplo simulado, se asignaron etiquetas basadas en la potencia en la banda alpha. Los resultados (precisión, matriz de confusión y reporte de clasificación) indican el desempeño del clasificador.\n",
    "\n",
    "Además, al inspeccionar los coeficientes del modelo se puede observar qué features son más relevantes para la distinción. Por ejemplo, si el coeficiente asociado a la potencia en alpha es negativo, esto sugeriría que segmentos con menor potencia en alpha (posiblemente relacionados con TDAH o baja atención) tienen mayor probabilidad de ser clasificados en esa categoría.\n",
    "\n",
    "**Consejo Profesional:**\n",
    "La extracción de features y su uso en modelos de clasificación es un paso clave en el desarrollo de soluciones de inteligencia artificial. Aunque en este ejemplo se han simulado etiquetas, en aplicaciones reales es fundamental contar con datos etiquetados de manera confiable. Además, analiza detenidamente la importancia de cada feature para identificar posibles mejoras en la selección y transformación de datos."
   ]
  }
 ],
 "metadata": {
  "kernelspec": {
   "display_name": "base",
   "language": "python",
   "name": "python3"
  },
  "language_info": {
   "codemirror_mode": {
    "name": "ipython",
    "version": 3
   },
   "file_extension": ".py",
   "mimetype": "text/x-python",
   "name": "python",
   "nbconvert_exporter": "python",
   "pygments_lexer": "ipython3",
   "version": "3.12.9"
  }
 },
 "nbformat": 4,
 "nbformat_minor": 2
}
