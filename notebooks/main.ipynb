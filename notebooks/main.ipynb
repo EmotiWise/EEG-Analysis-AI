{
 "cells": [
  {
   "cell_type": "markdown",
   "metadata": {},
   "source": [
    "# Ticket 1: Configuración del Entorno y Carga de Datos\n",
    "\n",
    "En este notebook preparamos el entorno de trabajo y cargamos el dataset de EEG almacenado en `v1p.mat`. Los datos fueron adquiridos utilizando el sistema de registro EEG según el estándar 10-20, con 19 canales y una frecuencia de muestreo de 128 Hz. Los electrodos A1 y A2 se usaron como referencias ubicadas en los lóbulos de las orejas.\n",
    "\n",
    "## Descripción del Dataset\n",
    "- **Canales de EEG:** Fz, Cz, Pz, C3, T3, C4, T4, Fp1, Fp2, F3, F4, F7, F8, P3, P4, T5, T6, O1, O2.\n",
    "- **Frecuencia de muestreo:** 128 Hz.\n",
    "- **Filas:** Cada fila representa una muestra en el tiempo de la actividad eléctrica cerebral.\n",
    "\n",
    "Cada columna del DataFrame corresponderá a la señal capturada por uno de estos canales."
   ]
  },
  {
   "cell_type": "code",
   "execution_count": 32,
   "metadata": {},
   "outputs": [
    {
     "name": "stdout",
     "output_type": "stream",
     "text": [
      "Entorno configurado y librerías importadas correctamente.\n"
     ]
    }
   ],
   "source": [
    "# Importar las librerías necesarias\n",
    "import numpy as np\n",
    "import pandas as pd\n",
    "from scipy.io import loadmat\n",
    "\n",
    "print('Entorno configurado y librerías importadas correctamente.')"
   ]
  },
  {
   "cell_type": "code",
   "execution_count": 33,
   "metadata": {},
   "outputs": [
    {
     "name": "stdout",
     "output_type": "stream",
     "text": [
      "Llaves en el archivo .mat: dict_keys(['__header__', '__version__', '__globals__', 'v1p'])\n",
      "Forma del array: (12258, 19)\n",
      "Tipo de datos: int16\n"
     ]
    }
   ],
   "source": [
    "# Cargar el archivo v1p.mat\n",
    "mat_data = loadmat('v1p.mat', squeeze_me=True)\n",
    "\n",
    "# Mostrar las llaves disponibles en el archivo .mat\n",
    "print('Llaves en el archivo .mat:', mat_data.keys())\n",
    "\n",
    "# Extraer la variable 'v1p'\n",
    "data_array = mat_data['v1p']\n",
    "\n",
    "print('Forma del array:', data_array.shape)\n",
    "print('Tipo de datos:', data_array.dtype)"
   ]
  },
  {
   "cell_type": "code",
   "execution_count": 34,
   "metadata": {},
   "outputs": [
    {
     "name": "stdout",
     "output_type": "stream",
     "text": [
      "Primeras 5 filas del DataFrame:\n",
      "    Fz   Cz   Pz   C3   T3   C4   T4  Fp1  Fp2    F3   F4   F7   F8   P3   P4  \\\n",
      "0   85 -407  200  191  420  457  310  310   16  1009  531  126  457  200  457   \n",
      "1 -266  -55  -20  367  163  384  -20  310  494  1193  494  236  236  310  200   \n",
      "2  -90  -19  126  437  420  568  347  457 -131  1156  384  384  494  384  494   \n",
      "3  -90 -160  163  473  384  494  310  384  457  1340  494  420  310  420  273   \n",
      "4 -301 -336  -20  473  200  531   89  420  200  1156  310  494  273  457  236   \n",
      "\n",
      "    T5   T6   O1   O2  \n",
      "0  384  -90  473  121  \n",
      "1  457 -195  543   15  \n",
      "2  531  -19  613  261  \n",
      "3  531  -90  437  -19  \n",
      "4  568 -160  578  121  \n"
     ]
    }
   ],
   "source": [
    "# Convertir la matriz en un DataFrame de pandas\n",
    "df = pd.DataFrame(data_array)\n",
    "\n",
    "# Asignar nombres de columnas correspondientes a cada canal de EEG\n",
    "channel_names = ['Fz', 'Cz', 'Pz', 'C3', 'T3', 'C4', 'T4', 'Fp1', 'Fp2', 'F3', 'F4', 'F7', 'F8', 'P3', 'P4', 'T5', 'T6', 'O1', 'O2']\n",
    "\n",
    "if df.shape[1] == len(channel_names):\n",
    "    df.columns = channel_names\n",
    "else:\n",
    "    print('Advertencia: El número de columnas en el dataset no coincide con el número de canales esperados.')\n",
    "\n",
    "print('Primeras 5 filas del DataFrame:')\n",
    "print(df.head())"
   ]
  },
  {
   "cell_type": "code",
   "execution_count": 35,
   "metadata": {},
   "outputs": [
    {
     "name": "stdout",
     "output_type": "stream",
     "text": [
      "\n",
      "Estadísticas descriptivas generales:\n",
      "                 Fz            Cz            Pz            C3            T3  \\\n",
      "count  12258.000000  12258.000000  12258.000000  12258.000000  12258.000000   \n",
      "mean     140.703377    143.592429    148.368902    142.220346    148.598711   \n",
      "std      406.245216    278.553994    311.195205    231.255983    182.955381   \n",
      "min    -3117.000000  -2096.000000  -2817.000000  -1815.000000   -572.000000   \n",
      "25%      -19.000000    -19.000000     16.000000     50.000000     16.000000   \n",
      "50%      156.000000    156.000000    126.000000    156.000000    163.000000   \n",
      "75%      297.000000    297.000000    273.000000    226.000000    273.000000   \n",
      "max     4063.000000   2303.000000   3806.000000   2725.000000    862.000000   \n",
      "\n",
      "                 C4            T4           Fp1           Fp2            F3  \\\n",
      "count  12258.000000  12258.000000  12258.000000  12258.000000  12258.000000   \n",
      "mean     148.604666    148.605564    148.401697    148.659488    155.028145   \n",
      "std      163.578897    195.899262    214.960414    269.520053    562.261741   \n",
      "min     -535.000000   -867.000000  -2817.000000   -609.000000  -3921.000000   \n",
      "25%       52.000000     16.000000     52.000000    -94.000000     52.000000   \n",
      "50%      163.000000    163.000000    163.000000    163.000000    163.000000   \n",
      "75%      273.000000    273.000000    236.000000    384.000000    273.000000   \n",
      "max      788.000000    788.000000   1635.000000    899.000000   4211.000000   \n",
      "\n",
      "                 F4            F7            F8            P3            P4  \\\n",
      "count  12258.000000  12258.000000  12258.000000  12258.000000  12258.000000   \n",
      "mean     148.467613    148.698891    148.665851    148.689835    148.321015   \n",
      "std      166.977800    108.628261    145.869417    162.385593    185.066248   \n",
      "min    -2854.000000   -315.000000  -1087.000000   -646.000000  -1051.000000   \n",
      "25%       52.000000     89.000000     52.000000     52.000000     16.000000   \n",
      "50%      163.000000    163.000000    163.000000    163.000000    163.000000   \n",
      "75%      236.000000    200.000000    236.000000    236.000000    273.000000   \n",
      "max     1230.000000    678.000000    678.000000   1230.000000    825.000000   \n",
      "\n",
      "                 T5            T6            O1            O2  \n",
      "count  12258.000000  12258.000000  12258.000000  12258.000000  \n",
      "mean     149.330968    141.963942    142.645864    142.386523  \n",
      "std      111.396126    455.738872    164.177427    168.898866  \n",
      "min     -315.000000  -3751.000000   -547.000000   -829.000000  \n",
      "25%       89.000000     50.000000     50.000000     15.000000  \n",
      "50%      163.000000    121.000000    156.000000    156.000000  \n",
      "75%      236.000000    226.000000    261.000000    261.000000  \n",
      "max      715.000000   4063.000000    789.000000    825.000000  \n",
      "\n",
      "Media de cada canal:\n",
      "Fz     140.703377\n",
      "Cz     143.592429\n",
      "Pz     148.368902\n",
      "C3     142.220346\n",
      "T3     148.598711\n",
      "C4     148.604666\n",
      "T4     148.605564\n",
      "Fp1    148.401697\n",
      "Fp2    148.659488\n",
      "F3     155.028145\n",
      "F4     148.467613\n",
      "F7     148.698891\n",
      "F8     148.665851\n",
      "P3     148.689835\n",
      "P4     148.321015\n",
      "T5     149.330968\n",
      "T6     141.963942\n",
      "O1     142.645864\n",
      "O2     142.386523\n",
      "dtype: float64\n",
      "\n",
      "Desviación estándar de cada canal:\n",
      "Fz     406.245216\n",
      "Cz     278.553994\n",
      "Pz     311.195205\n",
      "C3     231.255983\n",
      "T3     182.955381\n",
      "C4     163.578897\n",
      "T4     195.899262\n",
      "Fp1    214.960414\n",
      "Fp2    269.520053\n",
      "F3     562.261741\n",
      "F4     166.977800\n",
      "F7     108.628261\n",
      "F8     145.869417\n",
      "P3     162.385593\n",
      "P4     185.066248\n",
      "T5     111.396126\n",
      "T6     455.738872\n",
      "O1     164.177427\n",
      "O2     168.898866\n",
      "dtype: float64\n",
      "\n",
      "Valor máximo de cada canal:\n",
      "Fz     4063\n",
      "Cz     2303\n",
      "Pz     3806\n",
      "C3     2725\n",
      "T3      862\n",
      "C4      788\n",
      "T4      788\n",
      "Fp1    1635\n",
      "Fp2     899\n",
      "F3     4211\n",
      "F4     1230\n",
      "F7      678\n",
      "F8      678\n",
      "P3     1230\n",
      "P4      825\n",
      "T5      715\n",
      "T6     4063\n",
      "O1      789\n",
      "O2      825\n",
      "dtype: int16\n",
      "\n",
      "Valor mínimo de cada canal:\n",
      "Fz    -3117\n",
      "Cz    -2096\n",
      "Pz    -2817\n",
      "C3    -1815\n",
      "T3     -572\n",
      "C4     -535\n",
      "T4     -867\n",
      "Fp1   -2817\n",
      "Fp2    -609\n",
      "F3    -3921\n",
      "F4    -2854\n",
      "F7     -315\n",
      "F8    -1087\n",
      "P3     -646\n",
      "P4    -1051\n",
      "T5     -315\n",
      "T6    -3751\n",
      "O1     -547\n",
      "O2     -829\n",
      "dtype: int16\n"
     ]
    }
   ],
   "source": [
    "# Calcular estadísticas descriptivas generales para cada canal de EEG\n",
    "print('\\nEstadísticas descriptivas generales:')\n",
    "print(df.describe())\n",
    "\n",
    "# Calcular estadísticas específicas: media, desviación estándar, valor máximo y mínimo para cada canal\n",
    "print('\\nMedia de cada canal:')\n",
    "print(df.mean())\n",
    "\n",
    "print('\\nDesviación estándar de cada canal:')\n",
    "print(df.std())\n",
    "\n",
    "print('\\nValor máximo de cada canal:')\n",
    "print(df.max())\n",
    "\n",
    "print('\\nValor mínimo de cada canal:')\n",
    "print(df.min())"
   ]
  },
  {
   "cell_type": "markdown",
   "metadata": {},
   "source": [
    "## Conclusiones\n",
    "\n",
    "El entorno se ha configurado correctamente y los datos de EEG han sido cargados en un DataFrame de pandas. Cada columna (correspondiente a los canales Fz, Cz, Pz, C3, T3, C4, T4, Fp1, Fp2, F3, F4, F7, F8, P3, P4, T5, T6, O1, O2) representa una señal EEG grabada a 128 Hz. Los electrodos de referencia A1 y A2 fueron usados para referenciar las señales, aunque estos no se incluyen directamente en el archivo.\n",
    "\n",
    "Las estadísticas descriptivas ofrecen una visión inicial de la distribución y variabilidad de cada canal, lo cual es crucial para posteriores análisis y procesamiento en proyectos de inteligencia artificial."
   ]
  },
  {
   "cell_type": "markdown",
   "metadata": {},
   "source": [
    "**Consejo Profesional:**\n",
    "\n",
    "Invertir tiempo en la correcta preparación y exploración de los datos es esencial para el éxito de cualquier proyecto de inteligencia artificial. Una base de datos bien entendida y documentada facilita la construcción de modelos precisos y robustos. Documenta cada paso y profundiza en el análisis de cada variable para extraer insights significativos que impulsen el desarrollo de soluciones innovadoras."
   ]
  }
 ],
 "metadata": {
  "kernelspec": {
   "display_name": "Python 3",
   "language": "python",
   "name": "python3"
  },
  "language_info": {
   "name": "python",
   "version": "3.x"
  }
 },
 "nbformat": 4,
 "nbformat_minor": 2
}
