{
 "cells": [
  {
   "cell_type": "markdown",
   "metadata": {},
   "source": [
    "# Ticket 4: Extracción de Características Simples\n",
    "\n",
    "En este notebook se extraen features básicas de la señal EEG para preparar el terreno hacia modelos predictivos. Se calculará la potencia (energía) en las siguientes bandas de frecuencia:\n",
    "\n",
    "- **Delta:** 0.5 - 4 Hz\n",
    "- **Theta:** 4 - 8 Hz\n",
    "- **Alpha:** 8 - 13 Hz\n",
    "- **Beta:** 13 - 30 Hz\n",
    "\n",
    "Para ello se utiliza la transformada de Fourier (a través de la función `welch` de SciPy) para obtener el espectro de potencia de cada canal. Luego se integra el área bajo la curva en cada banda para obtener el valor de energía, expresado en µV² (asumiendo que la unidad de la señal es microvoltios).\n",
    "\n",
    "Cada fila de la tabla resultante corresponderá a un canal EEG (según el estándar 10-20) y cada columna representará la potencia en una banda de frecuencia."
   ]
  },
  {
   "cell_type": "code",
   "execution_count": 1,
   "metadata": {},
   "outputs": [
    {
     "name": "stdout",
     "output_type": "stream",
     "text": [
      "Entorno configurado y librerías importadas correctamente.\n"
     ]
    }
   ],
   "source": [
    "# Importar las librerías necesarias\n",
    "import numpy as np\n",
    "import pandas as pd\n",
    "import matplotlib.pyplot as plt\n",
    "from scipy.io import loadmat\n",
    "from scipy.signal import welch\n",
    "\n",
    "print('Entorno configurado y librerías importadas correctamente.')"
   ]
  },
  {
   "cell_type": "code",
   "execution_count": 2,
   "metadata": {},
   "outputs": [
    {
     "name": "stdout",
     "output_type": "stream",
     "text": [
      "Llaves en el archivo .mat: dict_keys(['__header__', '__version__', '__globals__', 'v1p'])\n",
      "Forma del array: (12258, 19)\n",
      "Tipo de datos: int16\n"
     ]
    }
   ],
   "source": [
    "# Cargar el archivo v1p.mat\n",
    "mat_data = loadmat('v1p.mat', squeeze_me=True)\n",
    "\n",
    "# Mostrar las llaves disponibles en el archivo\n",
    "print('Llaves en el archivo .mat:', mat_data.keys())\n",
    "\n",
    "# Extraer la variable 'v1p'\n",
    "data_array = mat_data['v1p']\n",
    "\n",
    "print('Forma del array:', data_array.shape)\n",
    "print('Tipo de datos:', data_array.dtype)"
   ]
  },
  {
   "cell_type": "code",
   "execution_count": 3,
   "metadata": {},
   "outputs": [
    {
     "name": "stdout",
     "output_type": "stream",
     "text": [
      "Primeras 5 filas del DataFrame:\n",
      "    Fz   Cz   Pz   C3   T3   C4   T4  Fp1  Fp2    F3   F4   F7   F8   P3   P4  \\\n",
      "0   85 -407  200  191  420  457  310  310   16  1009  531  126  457  200  457   \n",
      "1 -266  -55  -20  367  163  384  -20  310  494  1193  494  236  236  310  200   \n",
      "2  -90  -19  126  437  420  568  347  457 -131  1156  384  384  494  384  494   \n",
      "3  -90 -160  163  473  384  494  310  384  457  1340  494  420  310  420  273   \n",
      "4 -301 -336  -20  473  200  531   89  420  200  1156  310  494  273  457  236   \n",
      "\n",
      "    T5   T6   O1   O2  \n",
      "0  384  -90  473  121  \n",
      "1  457 -195  543   15  \n",
      "2  531  -19  613  261  \n",
      "3  531  -90  437  -19  \n",
      "4  568 -160  578  121  \n"
     ]
    }
   ],
   "source": [
    "# Convertir la matriz en un DataFrame de pandas\n",
    "df = pd.DataFrame(data_array)\n",
    "\n",
    "# Asignar nombres de columnas de acuerdo con el estándar 10-20\n",
    "channel_names = ['Fz', 'Cz', 'Pz', 'C3', 'T3', 'C4', 'T4', 'Fp1', 'Fp2', 'F3', 'F4', 'F7', 'F8', 'P3', 'P4', 'T5', 'T6', 'O1', 'O2']\n",
    "\n",
    "if df.shape[1] == len(channel_names):\n",
    "    df.columns = channel_names\n",
    "else:\n",
    "    print('Advertencia: El número de columnas en el dataset no coincide con el número de canales esperados.')\n",
    "\n",
    "print('Primeras 5 filas del DataFrame:')\n",
    "print(df.head())"
   ]
  },
  {
   "cell_type": "markdown",
   "metadata": {},
   "source": [
    "## Parámetros y Definición de Bandas de Frecuencia\n",
    "\n",
    "Se definen las bandas de interés y la frecuencia de muestreo (128 Hz, según la documentación)."
   ]
  },
  {
   "cell_type": "code",
   "execution_count": 4,
   "metadata": {},
   "outputs": [
    {
     "name": "stdout",
     "output_type": "stream",
     "text": [
      "Parámetros definidos:\n",
      "Frecuencia de muestreo: 128 Hz\n",
      "Bandas de frecuencia: {'delta': (0.5, 4), 'theta': (4, 8), 'alpha': (8, 13), 'beta': (13, 30)}\n"
     ]
    }
   ],
   "source": [
    "# Frecuencia de muestreo\n",
    "fs = 128  # Hz\n",
    "\n",
    "# Definir bandas de frecuencia (en Hz)\n",
    "bands = {\n",
    "    'delta': (0.5, 4),\n",
    "    'theta': (4, 8),\n",
    "    'alpha': (8, 13),\n",
    "    'beta': (13, 30)\n",
    "}\n",
    "\n",
    "print('Parámetros definidos:')\n",
    "print(f'Frecuencia de muestreo: {fs} Hz')\n",
    "print('Bandas de frecuencia:', bands)"
   ]
  },
  {
   "cell_type": "markdown",
   "metadata": {},
   "source": [
    "## Función para Calcular la Potencia en una Banda de Frecuencia\n",
    "\n",
    "Se utiliza la función `welch` para estimar la densidad espectral de potencia (PSD) de la señal. Luego, se integra el área bajo la curva (utilizando la regla del trapecio) en el rango de frecuencia correspondiente a cada banda."
   ]
  },
  {
   "cell_type": "code",
   "execution_count": 5,
   "metadata": {},
   "outputs": [],
   "source": [
    "def bandpower(data, fs, band, nperseg=256):\n",
    "    \"\"\"Calcula la potencia de la señal en una banda de frecuencia específica.\n",
    "    \n",
    "    Parámetros:\n",
    "    - data: Señal unidimensional (array).\n",
    "    - fs: Frecuencia de muestreo en Hz.\n",
    "    - band: Tupla (f_low, f_high) que define la banda de interés.\n",
    "    - nperseg: Número de muestras por segmento para welch.\n",
    "    \n",
    "    Retorna:\n",
    "    - band_power: Potencia integrada en la banda (en µV², si la señal está en µV).\n",
    "    \"\"\"\n",
    "    f, Pxx = welch(data, fs=fs, nperseg=nperseg)\n",
    "    # Seleccionar frecuencias dentro de la banda\n",
    "    freq_idx = np.logical_and(f >= band[0], f <= band[1])\n",
    "    band_power = np.trapz(Pxx[freq_idx], f[freq_idx])\n",
    "    return band_power\n",
    "\n",
    "# Ejemplo: Calcular la potencia en la banda theta para el canal 'Fz'\n",
    "# power_theta_Fz = bandpower(df['Fz'].values, fs, bands['theta'])\n",
    "# print('Potencia banda theta para Fz:', power_theta_Fz, 'µV²')"
   ]
  },
  {
   "cell_type": "markdown",
   "metadata": {},
   "source": [
    "## Extracción de Features para Todos los Canales\n",
    "\n",
    "Para cada canal se calcula la potencia en cada banda (delta, theta, alpha y beta) y se resumen los resultados en una tabla."
   ]
  },
  {
   "cell_type": "code",
   "execution_count": 6,
   "metadata": {},
   "outputs": [
    {
     "name": "stderr",
     "output_type": "stream",
     "text": [
      "C:\\Users\\Luna\\AppData\\Local\\Temp\\ipykernel_7448\\92541027.py:16: DeprecationWarning: `trapz` is deprecated. Use `trapezoid` instead, or one of the numerical integration functions in `scipy.integrate`.\n",
      "  band_power = np.trapz(Pxx[freq_idx], f[freq_idx])\n"
     ]
    },
    {
     "name": "stdout",
     "output_type": "stream",
     "text": [
      "Tabla de características extraídas (potencia en µV²):\n",
      "   Canal  Potencia_delta  Potencia_theta  Potencia_alpha  Potencia_beta\n",
      "0     Fz   109265.653809    13519.541077     5118.315887    3295.481617\n",
      "1     Cz    38420.385254    12905.592041     8500.407043   10504.804123\n",
      "2     Pz    63465.504395     7656.492310     3874.831543    2719.671400\n",
      "3     C3    22730.790771     8391.510986     5577.296021    8129.711044\n",
      "4     T3     7931.026123     6505.762451     3447.874741    1536.809253\n",
      "5     C4     9432.587769     7526.879456     5003.300140    1537.342149\n",
      "6     T4     7740.396606     4720.436798     3728.219330    1891.740145\n",
      "7    Fp1    22335.975342     7731.656982     5045.610107    3388.430733\n",
      "8    Fp2     5090.586060     2723.075165     1840.601265    1520.216381\n",
      "9     F3   124350.875488    45528.750977    24281.230225   53226.889771\n",
      "10    F4    13944.471436     4430.856995     2647.535843    1542.630876\n",
      "11    F7     5578.893982     2640.643494     1576.403145     963.499304\n",
      "12    F8     5286.414886     1653.215263     1231.046539     920.802427\n",
      "13    P3    16121.923950     4642.777710     3086.558731    1099.843186\n",
      "14    P4    16699.410339     1936.169838     1027.398926     911.997778\n",
      "15    T5     4635.034607     2470.448975     1993.091316    1536.450951\n",
      "16    T6    85563.408203    28404.498047    14246.398499   32255.243942\n",
      "17    O1     9170.579346     7967.044983     4514.616074    1558.259896\n",
      "18    O2     7780.838562     4578.278259     3817.238800    1640.888150\n"
     ]
    }
   ],
   "source": [
    "# Crear una lista para almacenar los resultados\n",
    "results = []\n",
    "\n",
    "for channel in df.columns:\n",
    "    channel_data = df[channel].values\n",
    "    features = {'Canal': channel}\n",
    "    \n",
    "    # Calcular la potencia para cada banda\n",
    "    for band_name, band_range in bands.items():\n",
    "        power = bandpower(channel_data, fs, band_range, nperseg=256)\n",
    "        features[f'Potencia_{band_name}'] = power\n",
    "    \n",
    "    results.append(features)\n",
    "\n",
    "# Convertir los resultados en un DataFrame para visualizarlos\n",
    "features_df = pd.DataFrame(results)\n",
    "\n",
    "print('Tabla de características extraídas (potencia en µV²):')\n",
    "print(features_df)"
   ]
  },
  {
   "cell_type": "markdown",
   "metadata": {},
   "source": [
    "## Conclusiones e Interpretación\n",
    "\n",
    "En este notebook se han extraído features simples a partir de las señales EEG. Para cada canal se ha calculado la potencia en las bandas delta, theta, alpha y beta. La tabla resultante resume estos valores y puede ser utilizada como input para modelos predictivos o para estudios comparativos.\n",
    "\n",
    "**Consejo Profesional:**\n",
    "\n",
    "La extracción de características es un paso esencial en la preparación de datos para inteligencia artificial. Es importante asegurarse de que los cálculos sean consistentes con las unidades esperadas (en este caso, µV²) y de interpretar correctamente los resultados. Ajusta los parámetros (por ejemplo, nperseg en la función welch) según la naturaleza y la duración de la señal para obtener estimaciones precisas. ¡Sigue explorando técnicas avanzadas para mejorar la robustez de tus features y la eficacia de tus modelos!"
   ]
  }
 ],
 "metadata": {
  "kernelspec": {
   "display_name": "base",
   "language": "python",
   "name": "python3"
  },
  "language_info": {
   "codemirror_mode": {
    "name": "ipython",
    "version": 3
   },
   "file_extension": ".py",
   "mimetype": "text/x-python",
   "name": "python",
   "nbconvert_exporter": "python",
   "pygments_lexer": "ipython3",
   "version": "3.12.9"
  }
 },
 "nbformat": 4,
 "nbformat_minor": 2
}
